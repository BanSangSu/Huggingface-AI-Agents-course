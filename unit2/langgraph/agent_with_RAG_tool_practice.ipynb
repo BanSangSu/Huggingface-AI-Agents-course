{
  "nbformat": 4,
  "nbformat_minor": 0,
  "metadata": {
    "colab": {
      "provenance": [],
      "authorship_tag": "ABX9TyO7KKUTqoRxAMVz9CW/6Mq5",
      "include_colab_link": true
    },
    "kernelspec": {
      "name": "python3",
      "display_name": "Python 3"
    },
    "language_info": {
      "name": "python"
    }
  },
  "cells": [
    {
      "cell_type": "markdown",
      "metadata": {
        "id": "view-in-github",
        "colab_type": "text"
      },
      "source": [
        "<a href=\"https://colab.research.google.com/github/BanSangSu/Huggingface-AI-Agents-course/blob/main/unit2/langgraph/agent_with_RAG_tool_practice.ipynb\" target=\"_parent\"><img src=\"https://colab.research.google.com/assets/colab-badge.svg\" alt=\"Open In Colab\"/></a>"
      ]
    },
    {
      "cell_type": "code",
      "source": [
        "%pip install -U rank_bm25 datasets langchain langchain_community langchain_openai langgraph langchain_core\n",
        "# You can use langchain_huggingface, instead of langchain_openai if you want"
      ],
      "metadata": {
        "id": "DaXJIXZHwnUP"
      },
      "execution_count": null,
      "outputs": []
    },
    {
      "cell_type": "code",
      "source": [
        "from huggingface_hub import login\n",
        "login()"
      ],
      "metadata": {
        "id": "lbIxAXy539dr"
      },
      "execution_count": null,
      "outputs": []
    },
    {
      "cell_type": "markdown",
      "source": [
        "## Load and Prepare the Dataset"
      ],
      "metadata": {
        "id": "ATck650bwC44"
      }
    },
    {
      "cell_type": "code",
      "execution_count": null,
      "metadata": {
        "id": "q6NKgAFiuoQh"
      },
      "outputs": [],
      "source": [
        "import datasets\n",
        "from langchain_core.documents import Document\n",
        "\n",
        "guest_dataset = datasets.load_dataset(\"agents-course/unit3-invitees\", split=\"train\")\n",
        "\n",
        "docs = [\n",
        "    Document(\n",
        "        page_content='\\n'.join([\n",
        "        f\"Name: {guest['name']}\",\n",
        "        f\"Relation: {guest['relation']}\",\n",
        "        f\"Description: {guest['description']}\",\n",
        "        f\"Email: {guest['email']}\",\n",
        "    ]),\n",
        "        metadata={\"name\": guest[\"name\"]}\n",
        "    )\n",
        "    for guest in guest_dataset\n",
        "]"
      ]
    },
    {
      "cell_type": "markdown",
      "source": [
        "## Create the Retriever Tool"
      ],
      "metadata": {
        "id": "a2rzU34Z5B0_"
      }
    },
    {
      "cell_type": "code",
      "source": [
        "from langchain_community.retrievers import BM25Retriever\n",
        "from langchain.tools import Tool\n",
        "\n",
        "bm25_retriever = BM25Retriever.from_documents(docs)\n",
        "\n",
        "def extract_text(query: str) -> str:\n",
        "    \"\"\"Retrieves detailed information about gala guests based on their name or relation.\"\"\"\n",
        "    results = bm25_retriever.invoke(query)\n",
        "    if results:\n",
        "        return \"\\n\\n\".join([doc.page_content for doc in results[:3]])\n",
        "    else:\n",
        "        return \"No matching guest information found.\"\n",
        "\n",
        "guest_info_tool = Tool(\n",
        "    name=\"guest_info_retriever\",\n",
        "    description=\"Retrieves detailed information about gala guests based on their name or relation.\",\n",
        "    func=extract_text\n",
        ")"
      ],
      "metadata": {
        "id": "NFNeIuN13SLn"
      },
      "execution_count": null,
      "outputs": []
    },
    {
      "cell_type": "markdown",
      "source": [
        "## Integrate the Tool with Alfred (agent)"
      ],
      "metadata": {
        "id": "UKHoStrdDd1M"
      }
    },
    {
      "cell_type": "code",
      "source": [
        "# For alternatives.\n",
        "import os\n",
        "\n",
        "os.environ[\"OPENAI_API_KEY\"] = getpass(\"OpenAI API Key:\")\n",
        "os.environ[\"OPENAI_API_BASE\"] = getpass(\"OpenAI OPENAI BASE URL:\")"
      ],
      "metadata": {
        "id": "jvHVT_89I4Oi"
      },
      "execution_count": null,
      "outputs": []
    },
    {
      "cell_type": "code",
      "source": [
        "from getpass import getpass\n",
        "\n",
        "model = getpass(\"Model:\")"
      ],
      "metadata": {
        "id": "hyRxnMfUO9L7"
      },
      "execution_count": null,
      "outputs": []
    },
    {
      "cell_type": "code",
      "source": [
        "# from langchain_huggingface import HuggingFaceEndpoint, ChatHuggingFace\n",
        "\n",
        "## I've already exceeded my monthly included credits for Inference Providers at Huggingface...\n",
        "# llm = HuggingFaceEndpoint(\n",
        "#     repo_id=\"Qwen/Qwen2.5-Coder-32B-Instruct\",\n",
        "#     # huggingfacehub_api_token=HUGGINGFACEHUB_API_TOKEN,\n",
        "# )\n",
        "\n",
        "# So I used alternatives.\n",
        "from langchain_openai import ChatOpenAI\n",
        "\n",
        "llm = ChatOpenAI(\n",
        "    model=model,\n",
        "    temperature=0,\n",
        ")\n",
        "\n",
        "tools = [guest_info_tool]\n",
        "llm_with_tools = llm.bind_tools(tools)"
      ],
      "metadata": {
        "id": "o39fkBWdGy_4"
      },
      "execution_count": null,
      "outputs": []
    },
    {
      "cell_type": "code",
      "source": [
        "from typing import TypedDict, Annotated\n",
        "from langgraph.graph.message import add_messages\n",
        "from langchain_core.messages import AnyMessage, HumanMessage, AIMessage\n",
        "from langgraph.prebuilt import ToolNode\n",
        "from langgraph.graph import START, StateGraph\n",
        "from langgraph.prebuilt import tools_condition\n",
        "\n",
        "\n",
        "class AgentState(TypedDict):\n",
        "    messages: Annotated[list[AnyMessage], add_messages]\n",
        "\n",
        "def assistant(state: AgentState):\n",
        "    return {\n",
        "        \"messages\": [llm_with_tools.invoke(state[\"messages\"])]\n",
        "    }\n",
        "\n",
        "\n",
        "builder = StateGraph(AgentState)\n",
        "\n",
        "builder.add_node(\"assistant\", assistant)\n",
        "builder.add_node(\"tools\", ToolNode(tools))\n",
        "\n",
        "builder.add_edge(START, \"assistant\")\n",
        "builder.add_conditional_edges(\n",
        "    \"assistant\",\n",
        "    tools_condition\n",
        ")\n",
        "builder.add_edge(\"tools\", \"assistant\")\n",
        "alfred = builder.compile()\n",
        "\n",
        "messages = [HumanMessage(content=\"Tell me about our guest named 'Lady Ada Lovelace'.\")]\n",
        "response = alfred.invoke({\"messages\": messages})\n",
        "\n",
        "print(\"🎩 Alfred's Response:\")\n",
        "print(response['messages'][-1].content)"
      ],
      "metadata": {
        "id": "Rs5x3hCJAI2v"
      },
      "execution_count": null,
      "outputs": []
    }
  ]
}